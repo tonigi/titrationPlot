{
 "cells": [
  {
   "cell_type": "markdown",
   "metadata": {},
   "source": [
    "How to make SVG without X11: http://matplotlib.org/faq/howto_faq.html#matplotlib-in-a-web-application-server\n",
    "\n",
    "How to embed in django: make SVG, replace in template http://stackoverflow.com/questions/34958702/embedding-a-matplotlib-plot-within-a-django-site\n",
    "\n",
    "Alternatively, make PNG and embed as base64\n"
   ]
  },
  {
   "cell_type": "code",
   "execution_count": 2,
   "metadata": {
    "collapsed": true
   },
   "outputs": [],
   "source": [
    "%qtconsole"
   ]
  },
  {
   "cell_type": "code",
   "execution_count": 61,
   "metadata": {
    "collapsed": true
   },
   "outputs": [],
   "source": [
    "import pickle\n",
    "import matplotlib\n",
    "matplotlib.use('Agg')\n",
    "import pandas as pd\n",
    "from IPython.display import SVG, display\n"
   ]
  },
  {
   "cell_type": "code",
   "execution_count": 62,
   "metadata": {
    "collapsed": false
   },
   "outputs": [],
   "source": [
    "pd=pickle.load(open(\"pd.pickle\",\"rb\"))"
   ]
  },
  {
   "cell_type": "code",
   "execution_count": 112,
   "metadata": {
    "collapsed": false
   },
   "outputs": [],
   "source": [
    "def get_pka_plot(prepData, pH=7.4, figSize=(8,12)):\n",
    "    import numpy as np\n",
    "    import matplotlib.pyplot as plt\n",
    "    from matplotlib.lines import Line2D\n",
    "    \n",
    "    \n",
    "    # Shading\n",
    "    C = 5\n",
    "    X = np.array([range(C),range(C)])\n",
    "    X = np.array([[1,1],[1,1]])\n",
    "    X = np.array([[1,1,1,1,1,1,1,0],[1,1,1,1,1,1,1,0]])\n",
    "    \n",
    "    # Color for pk values\n",
    "    pkcolor = \"black\"\n",
    "    pkfontsize = 10\n",
    "\n",
    "    \n",
    "    # Constants\n",
    "    acidicResidues = ['ASP','GLU','TYR']\n",
    "    basicResidues = ['HIS','LYS','ARG']\n",
    "    \n",
    "    # titr =  (~ pd.isnull(d.pKa)) & d.pKa < 99\n",
    "    d = prepData.data\n",
    "    titr =  d.pKa < 99  # Automatically excludes NaN\n",
    "    N = sum(titr)\n",
    "    \n",
    "    # Format residue labels\n",
    "    labels = [x.resname+\" \"+str(x.resid)+x.insertion for i,x in d.loc[titr].iterrows()]\n",
    "    pKas = d.pKa.loc[titr]\n",
    "    restypes = [\"neg\" if x.resname in acidicResidues else \"pos\" for i,x in d.loc[titr].iterrows() ]\n",
    "    \n",
    "\n",
    "    xmin, xmax = xlim = 0, 14\n",
    "    ymin, ymax = ylim = -1, N\n",
    "\n",
    "    #fig = figure(figsize=figSize)\n",
    "    fig = plt.figure(figsize=figSize)\n",
    "    ax = fig.add_subplot(111, xlim=xlim, ylim=ylim,\n",
    "                         autoscale_on=False)\n",
    "    ax.xaxis.tick_top()\n",
    "    ax.xaxis.set_xlabel(\"pKa\")\n",
    "    ax.yaxis.set_ticks(range(N))\n",
    "    ax.yaxis.set_ticklabels(labels)\n",
    "    ax.invert_yaxis()\n",
    "\n",
    "    width=.7\n",
    "    for i in range(N):\n",
    "        left=xmin\n",
    "        right=xmax\n",
    "        top=i+width/2\n",
    "        bottom=i-width/2\n",
    "        pk = pKas.iloc[i]\n",
    "        restype = restypes[i]\n",
    "        \n",
    "        if restype == \"neg\":\n",
    "            ax.imshow(np.fliplr(X), interpolation=\"bicubic\",\n",
    "                      cmap=plt.cm.Blues, vmin=0, vmax=1,\n",
    "                      extent=(pk, right, bottom, top), alpha=1)\n",
    "            ax.text(pk,i,\" {:5.2f} \".format(pk),color=pkcolor, fontsize=pkfontsize, horizontalalignment=\"right\")\n",
    "        else:\n",
    "            ax.imshow(X, interpolation=\"bicubic\",\n",
    "                      cmap=plt.cm.Reds, vmin=0, vmax=1,\n",
    "                      extent=(left, pk, bottom, top), alpha=1)\n",
    "            ax.text(pk,i,\" {:5.2f} \".format(pk),color=pkcolor, fontsize=pkfontsize, horizontalalignment=\"left\")\n",
    "\n",
    "        # ax.add_line(Line2D([pk,pk], [bottom,top], linewidth=3, color='blue'))\n",
    "        \n",
    "\n",
    "    # Vertical line at pH\n",
    "    ax.axvline(x=pH, linewidth=100, color=\"k\", alpha=.2) \n",
    "    ax.axvline(x=pH, linewidth=10, color=\"k\", alpha=.3) \n",
    "\n",
    "    ax.set_aspect('auto')\n",
    "    \n",
    "    # show()   # for interactive use\n",
    "    from io import StringIO\n",
    "    imgdata = StringIO()\n",
    "    fig.savefig(imgdata, format=\"svg\", bbox_inches='tight')\n",
    "    plt.close(fig)\n",
    "    return imgdata.getvalue()\n"
   ]
  },
  {
   "cell_type": "code",
   "execution_count": 113,
   "metadata": {
    "collapsed": false
   },
   "outputs": [
    {
     "name": "stderr",
     "output_type": "stream",
     "text": [
      "/home/toni/Apps/anaconda3/lib/python3.5/site-packages/matplotlib/pyplot.py:516: RuntimeWarning: More than 20 figures have been opened. Figures created through the pyplot interface (`matplotlib.pyplot.figure`) are retained until explicitly closed and may consume too much memory. (To control this warning, see the rcParam `figure.max_open_warning`).\n",
      "  max_open_warning, RuntimeWarning)\n"
     ]
    },
    {
     "ename": "AttributeError",
     "evalue": "'XAxis' object has no attribute 'set_xlabel'",
     "output_type": "error",
     "traceback": [
      "\u001b[1;31m---------------------------------------------------------------------------\u001b[0m",
      "\u001b[1;31mAttributeError\u001b[0m                            Traceback (most recent call last)",
      "\u001b[1;32m<ipython-input-113-307e526bfdf8>\u001b[0m in \u001b[0;36m<module>\u001b[1;34m()\u001b[0m\n\u001b[1;32m----> 1\u001b[1;33m \u001b[0msvg_plot\u001b[0m\u001b[1;33m=\u001b[0m\u001b[0mget_pka_plot\u001b[0m\u001b[1;33m(\u001b[0m\u001b[0mpd\u001b[0m\u001b[1;33m,\u001b[0m \u001b[0mpH\u001b[0m\u001b[1;33m=\u001b[0m\u001b[1;36m7.4\u001b[0m\u001b[1;33m)\u001b[0m\u001b[1;33m\u001b[0m\u001b[0m\n\u001b[0m\u001b[0;32m      2\u001b[0m \u001b[0mdisplay\u001b[0m\u001b[1;33m(\u001b[0m\u001b[0mSVG\u001b[0m\u001b[1;33m(\u001b[0m\u001b[0msvg_plot\u001b[0m\u001b[1;33m)\u001b[0m\u001b[1;33m)\u001b[0m\u001b[1;33m\u001b[0m\u001b[0m\n",
      "\u001b[1;32m<ipython-input-112-834245e2d2e5>\u001b[0m in \u001b[0;36mget_pka_plot\u001b[1;34m(prepData, pH, figSize)\u001b[0m\n\u001b[0;32m     39\u001b[0m                          autoscale_on=False)\n\u001b[0;32m     40\u001b[0m     \u001b[0max\u001b[0m\u001b[1;33m.\u001b[0m\u001b[0mxaxis\u001b[0m\u001b[1;33m.\u001b[0m\u001b[0mtick_top\u001b[0m\u001b[1;33m(\u001b[0m\u001b[1;33m)\u001b[0m\u001b[1;33m\u001b[0m\u001b[0m\n\u001b[1;32m---> 41\u001b[1;33m     \u001b[0max\u001b[0m\u001b[1;33m.\u001b[0m\u001b[0mxaxis\u001b[0m\u001b[1;33m.\u001b[0m\u001b[0mset_xlabel\u001b[0m\u001b[1;33m(\u001b[0m\u001b[1;34m\"pKa\"\u001b[0m\u001b[1;33m)\u001b[0m\u001b[1;33m\u001b[0m\u001b[0m\n\u001b[0m\u001b[0;32m     42\u001b[0m     \u001b[0max\u001b[0m\u001b[1;33m.\u001b[0m\u001b[0myaxis\u001b[0m\u001b[1;33m.\u001b[0m\u001b[0mset_ticks\u001b[0m\u001b[1;33m(\u001b[0m\u001b[0mrange\u001b[0m\u001b[1;33m(\u001b[0m\u001b[0mN\u001b[0m\u001b[1;33m)\u001b[0m\u001b[1;33m)\u001b[0m\u001b[1;33m\u001b[0m\u001b[0m\n\u001b[0;32m     43\u001b[0m     \u001b[0max\u001b[0m\u001b[1;33m.\u001b[0m\u001b[0myaxis\u001b[0m\u001b[1;33m.\u001b[0m\u001b[0mset_ticklabels\u001b[0m\u001b[1;33m(\u001b[0m\u001b[0mlabels\u001b[0m\u001b[1;33m)\u001b[0m\u001b[1;33m\u001b[0m\u001b[0m\n",
      "\u001b[1;31mAttributeError\u001b[0m: 'XAxis' object has no attribute 'set_xlabel'"
     ]
    }
   ],
   "source": [
    "svg_plot=get_pka_plot(pd, pH=7.4)\n",
    "display(SVG(svg_plot))"
   ]
  },
  {
   "cell_type": "code",
   "execution_count": 65,
   "metadata": {
    "collapsed": false
   },
   "outputs": [
    {
     "data": {
      "text/plain": [
       "'<?xml version=\"1.0\" encoding=\"utf-8\" standalone=\"no\"?>\\n<!DOCTYPE svg PUBLIC \"-//W3C//DTD SVG 1.1//EN\"\\n  \"http://www.w3.org/Graphics/SVG/1.1/DTD/svg11.dtd\">\\n<!-- Created with matplotlib (http://matplotlib.org/) -->\\n<svg height=\"721pt\" version=\"1.1\" viewBox=\"0 0 521 721\" width=\"521pt\" xmlns=\"http://www.w3.org/2000/svg\" xmlns:xlink=\"http://www.w3.org/1999/xlink\">\\n <defs>\\n  <style type=\"text/css\">\\n*{s'"
      ]
     },
     "execution_count": 65,
     "metadata": {},
     "output_type": "execute_result"
    }
   ],
   "source": [
    "svg_plot[0:400]"
   ]
  },
  {
   "cell_type": "code",
   "execution_count": 66,
   "metadata": {
    "collapsed": true
   },
   "outputs": [],
   "source": [
    "?SVG\n"
   ]
  },
  {
   "cell_type": "code",
   "execution_count": null,
   "metadata": {
    "collapsed": true
   },
   "outputs": [],
   "source": []
  }
 ],
 "metadata": {
  "anaconda-cloud": {},
  "kernelspec": {
   "display_name": "Python [conda root]",
   "language": "python",
   "name": "conda-root-py"
  },
  "language_info": {
   "codemirror_mode": {
    "name": "ipython",
    "version": 3
   },
   "file_extension": ".py",
   "mimetype": "text/x-python",
   "name": "python",
   "nbconvert_exporter": "python",
   "pygments_lexer": "ipython3",
   "version": "3.5.2"
  }
 },
 "nbformat": 4,
 "nbformat_minor": 0
}
