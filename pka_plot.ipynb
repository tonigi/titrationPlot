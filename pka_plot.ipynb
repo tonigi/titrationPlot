{
 "cells": [
  {
   "cell_type": "markdown",
   "metadata": {},
   "source": [
    "How to make SVG without X11: http://matplotlib.org/faq/howto_faq.html#matplotlib-in-a-web-application-server\n",
    "\n",
    "How to embed in django: make SVG, replace in template http://stackoverflow.com/questions/34958702/embedding-a-matplotlib-plot-within-a-django-site\n",
    "\n",
    "Alternatively, make PNG and embed as base64\n"
   ]
  },
  {
   "cell_type": "code",
   "execution_count": 1,
   "metadata": {
    "collapsed": true
   },
   "outputs": [],
   "source": [
    "%qtconsole"
   ]
  },
  {
   "cell_type": "code",
   "execution_count": 2,
   "metadata": {
    "collapsed": true
   },
   "outputs": [],
   "source": [
    "import pickle\n",
    "import matplotlib\n",
    "matplotlib.use('Agg')\n",
    "import pandas as pd\n"
   ]
  },
  {
   "cell_type": "code",
   "execution_count": 3,
   "metadata": {
    "collapsed": false
   },
   "outputs": [
    {
     "name": "stdout",
     "output_type": "stream",
     "text": [
      "\n",
      "Please cite -- HTMD: High-Throughput Molecular Dynamics for Molecular Discovery\n",
      "J. Chem. Theory Comput., 2016, 12 (4), pp 1845-1852. \n",
      "http://pubs.acs.org/doi/abs/10.1021/acs.jctc.6b00049\n",
      "\n",
      "You are on the latest HTMD version (unpackaged : /home/toni/work/htmd/htmd/htmd).\n",
      "\n"
     ]
    }
   ],
   "source": [
    "pd=pickle.load(open(\"pd.pickle\",\"rb\"))"
   ]
  },
  {
   "cell_type": "code",
   "execution_count": 4,
   "metadata": {
    "collapsed": false
   },
   "outputs": [],
   "source": [
    "def get_pka_plot(prepData, pH=7.4, figSize=(15,25)):\n",
    "\n",
    "    from matplotlib.pyplot import figure, show, cm\n",
    "    from matplotlib.lines import Line2D\n",
    "    import numpy as np\n",
    "    \n",
    "    # titr =  (~ pd.isnull(d.pKa)) & d.pKa < 99\n",
    "    d = prepData.data\n",
    "    titr =  d.pKa < 99  # Automatically excludes NaN\n",
    "    N = sum(titr)\n",
    "    \n",
    "    # Format residue labels\n",
    "    labels = [x.resname+\" \"+str(x.resid)+x.insertion for i,x in d.loc[titr].iterrows()]\n",
    "    pKas = d.pKa.loc[titr]\n",
    "\n",
    "    # Shading\n",
    "    C = 19\n",
    "    X = np.array([range(C),range(C)])\n",
    "    X = X - (C-1)/2\n",
    "\n",
    "    xmin, xmax = xlim = 0, 14\n",
    "    ymin, ymax = ylim = -1, N\n",
    "\n",
    "    fig = figure(figsize=figSize)\n",
    "    ax = fig.add_subplot(111, xlim=xlim, ylim=ylim,\n",
    "                         autoscale_on=False)\n",
    "    ax.yaxis.set_ticks(range(N))\n",
    "    ax.yaxis.set_ticklabels(labels)\n",
    "    ax.invert_yaxis()\n",
    "\n",
    "    width=.7\n",
    "    for i in range(N):\n",
    "        left=xmin\n",
    "        right=xmax\n",
    "        top=i+width/2\n",
    "        bottom=i-width/2\n",
    "        pk = pKas.iloc[i]\n",
    "        ax.imshow(X-pk+7,interpolation='bicubic', \n",
    "                  cmap=cm.coolwarm, vmin=-7, vmax=7,\n",
    "                  extent=(left, right, bottom, top), alpha=1)\n",
    "\n",
    "        ax.add_line(Line2D([pk,pk], [bottom,top], linewidth=3, color='white'))\n",
    "        ax.text(xmax,i,\"{:5.2f} \".format(pk),fontsize=14,color=\"white\",horizontalalignment='right')\n",
    "\n",
    "    # Vertical line at pH\n",
    "    ax.axvline(x=pH, linewidth=100, color=\"k\", alpha=.2) \n",
    "    ax.axvline(x=pH, linewidth=20, color=\"k\", alpha=.3) \n",
    "\n",
    "    ax.set_aspect('auto')\n",
    "    \n",
    "    # show()   # for interactive use\n",
    "    from io import StringIO\n",
    "    imgdata = StringIO()\n",
    "    fig.savefig(imgdata, format=\"svg\", bbox_inches='tight')\n",
    "    return imgdata.getvalue()\n"
   ]
  },
  {
   "cell_type": "code",
   "execution_count": null,
   "metadata": {
    "collapsed": false
   },
   "outputs": [],
   "source": [
    "svg_plot=get_pka_plot(pd, pH=7.4)\n"
   ]
  },
  {
   "cell_type": "code",
   "execution_count": null,
   "metadata": {
    "collapsed": false
   },
   "outputs": [],
   "source": [
    "\n",
    "from IPython.display import SVG, display\n",
    "display(SVG(svg_plot))"
   ]
  },
  {
   "cell_type": "code",
   "execution_count": null,
   "metadata": {
    "collapsed": true
   },
   "outputs": [],
   "source": []
  }
 ],
 "metadata": {
  "anaconda-cloud": {},
  "kernelspec": {
   "display_name": "Python [conda root]",
   "language": "python",
   "name": "conda-root-py"
  },
  "language_info": {
   "codemirror_mode": {
    "name": "ipython",
    "version": 3
   },
   "file_extension": ".py",
   "mimetype": "text/x-python",
   "name": "python",
   "nbconvert_exporter": "python",
   "pygments_lexer": "ipython3",
   "version": "3.5.2"
  }
 },
 "nbformat": 4,
 "nbformat_minor": 0
}
